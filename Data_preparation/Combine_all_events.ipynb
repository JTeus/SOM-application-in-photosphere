{
 "cells": [
  {
   "cell_type": "markdown",
   "id": "5f83e788-b99b-40c0-8ecb-180a48b87a18",
   "metadata": {},
   "source": [
    "# Packages used"
   ]
  },
  {
   "cell_type": "code",
   "execution_count": 1,
   "id": "696b4b20-3ca0-4b65-87e5-6a200e334e05",
   "metadata": {},
   "outputs": [],
   "source": [
    "from astropy.io import fits \n",
    "import matplotlib.pyplot as plt\n",
    "\n",
    "import os\n",
    "import glob\n",
    "import numpy as np"
   ]
  },
  {
   "cell_type": "markdown",
   "id": "c112ae89-9ec3-44bb-893e-a5dff872faff",
   "metadata": {},
   "source": [
    "## All events used are in the **All events** folder:\n",
    "\n",
    "- ### https://drive.google.com/drive/folders/1YxhCUdBSnPx4sSMn7hs2LoV-k0eC-x3y?usp=drive_link\n",
    "\n",
    "| ID | AR | DATE | TIME | ROWS | COLUMNS |\r\n",
    "|:--:|:------:|:------------:|:--------:|:----:|:---------:|\r\n",
    "| 1 | 10930 | 2006/12/12 | 035005 | 512 | 1000 |\r\n",
    "| 2 | 11692 | 2013/03/14 | 210005 | 384 | 562 |\r\n",
    "| 3 | 11967 | 2014/02/04 | 190005 | 408 | 831 |\r\n",
    "| 4 | 12209 | 2014/11/23 | 062123 | 408 | 875 |\r\n",
    "| 5 | 12297 | 2015/03/10 | 074505 | 512 | 505 |\r\n",
    "| 6 | 12297 | 2015/03/10 | 093005 | 512 | 512 |\r\n",
    "| 7 | 12297 | 2015/03/10 | 110406 | 512 | 511 |\r\n",
    "| 8 | 12297 | 2015/03/10 | 165005 | 512 | 512 |\r\n",
    "| 9 | 12497 | 2016/02/12 | 231005 | 512 | 876 |\r\n",
    "| 10 | 12567 | 2016/07/22 | 233504 | 512 | 967 |\r\n",
    "| 11 | 12672 | 2017/08/23 | 224005 | 512 | 724 |\r\n",
    "| 12 | 12727 | 2018/11/17 | 130006 | 384 | 384 |\r\n",
    "| 13 | 12736 | 2019/03/22 | 010205 | 512 | 909 |"
   ]
  },
  {
   "cell_type": "code",
   "execution_count": 2,
   "id": "757bdd05-b016-43b7-910e-f2814f23bc1d",
   "metadata": {},
   "outputs": [],
   "source": [
    "#Folder names\n",
    "arquivos_fits = glob.glob('All events/*.fits')  \n",
    "nomes_arquivos = [os.path.basename(f) for f in arquivos_fits]"
   ]
  },
  {
   "cell_type": "code",
   "execution_count": 3,
   "id": "eece67b4-0f51-4d57-93ed-d2ddd26a17b6",
   "metadata": {},
   "outputs": [
    {
     "data": {
      "text/plain": [
       "['All events\\\\combined_10930_20061212_035005.fits',\n",
       " 'All events\\\\combined_11692_20130314_210005.fits',\n",
       " 'All events\\\\combined_11967_20140204_190005.fits',\n",
       " 'All events\\\\combined_12209_20141123_062123.fits',\n",
       " 'All events\\\\combined_12297_20150310_074505.fits',\n",
       " 'All events\\\\combined_12297_20150310_093005.fits',\n",
       " 'All events\\\\combined_12297_20150310_110406.fits',\n",
       " 'All events\\\\combined_12297_20150310_165005.fits',\n",
       " 'All events\\\\combined_12497_20160212_231005.fits',\n",
       " 'All events\\\\combined_12567_20160722_233504.fits',\n",
       " 'All events\\\\combined_12672_20170823_224005.fits',\n",
       " 'All events\\\\combined_12727_20181117_130006.fits',\n",
       " 'All events\\\\combined_12736_20190322_010205.fits']"
      ]
     },
     "execution_count": 3,
     "metadata": {},
     "output_type": "execute_result"
    }
   ],
   "source": [
    "glob.glob('All events/*.fits')"
   ]
  },
  {
   "cell_type": "markdown",
   "id": "a54e3775-eecd-4f9d-9574-b8865cd9e1f6",
   "metadata": {},
   "source": [
    "## Generating a Fits file with all events"
   ]
  },
  {
   "cell_type": "code",
   "execution_count": 4,
   "id": "57d3b2bb-ddfa-4956-8261-e355fbabfefb",
   "metadata": {},
   "outputs": [],
   "source": [
    "# List .fits files in current folder\n",
    "arquivos_fits = glob.glob('All events/*.fits')\n",
    "\n",
    "# Initialize list\n",
    "dados_todos = []\n",
    "\n",
    "# Loop to process each file\n",
    "for arquivo in arquivos_fits:\n",
    "    \n",
    "    # Open the FITS file\n",
    "    with fits.open(arquivo) as hdul:    \n",
    "        \n",
    "        data_stokes = hdul[0].data\n",
    "        stokes = np.copy(data_stokes)\n",
    "        stokes = stokes.astype(\"float64\") \n",
    "\n",
    "        # Stokes normalization (I_c varies from author to author)\n",
    "        I_qs =  np.mean(stokes[:,:, 0, 0:10]) \n",
    "        stokes /= I_qs\n",
    "\n",
    "        # Minimum index (intensity profile)       \n",
    "        ind_min = 30\n",
    "\n",
    "        # Selection of 31 points (centered on the minimum)\n",
    "        I_ = stokes[:,:,0, ind_min-15:ind_min+16]  \n",
    "        Q_ = stokes[:,:,1, ind_min-15:ind_min+16]\n",
    "        U_ = stokes[:,:,2, ind_min-15:ind_min+16]\n",
    "        V_ = stokes[:,:,3, ind_min-15:ind_min+16]\n",
    "\n",
    "        IQUV_concat = np.concatenate([I_, Q_, U_, V_], axis=-1)\n",
    "\n",
    "        data_reshaped = IQUV_concat.reshape(-1, 124)\n",
    "\n",
    "        dados_todos.append(data_reshaped)\n",
    "\n",
    "# # Now stack all data vertically \n",
    "data_array = np.vstack(dados_todos)\n",
    "\n",
    "# Save as FITS file\n",
    "hdu = fits.PrimaryHDU(data_array)\n",
    "hdu.writeto('combined_ALL_31points_mean.fits', overwrite=True) "
   ]
  }
 ],
 "metadata": {
  "kernelspec": {
   "display_name": "Python (WFA)",
   "language": "python",
   "name": "wfa"
  },
  "language_info": {
   "codemirror_mode": {
    "name": "ipython",
    "version": 3
   },
   "file_extension": ".py",
   "mimetype": "text/x-python",
   "name": "python",
   "nbconvert_exporter": "python",
   "pygments_lexer": "ipython3",
   "version": "3.11.5"
  }
 },
 "nbformat": 4,
 "nbformat_minor": 5
}
