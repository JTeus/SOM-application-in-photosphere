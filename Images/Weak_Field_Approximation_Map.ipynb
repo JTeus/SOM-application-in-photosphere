version https://git-lfs.github.com/spec/v1
oid sha256:cf1cf919fe63952739844d9bf1abfa7afde96648c573e191e13b4e986fa435c6
size 1665010
