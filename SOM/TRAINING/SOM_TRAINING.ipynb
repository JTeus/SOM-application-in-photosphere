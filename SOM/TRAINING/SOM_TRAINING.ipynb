{
 "cells": [
  {
   "cell_type": "markdown",
   "id": "3c28f5df-7646-4c94-a499-763805c80448",
   "metadata": {},
   "source": [
    "# Packages used"
   ]
  },
  {
   "cell_type": "code",
   "execution_count": 1,
   "id": "d3691a01-029a-45b5-9b11-cc38930feb1b",
   "metadata": {},
   "outputs": [],
   "source": [
    "from astropy.io import fits \n",
    "import matplotlib.pyplot as plt\n",
    "\n",
    "import os\n",
    "import glob\n",
    "import numpy as np"
   ]
  },
  {
   "cell_type": "markdown",
   "id": "6cde11fc-242c-4a0a-abad-6ca9ad56fe04",
   "metadata": {},
   "source": [
    "## Link to data \n",
    "- combined_ALL_31points_mean.fits **[size: ~ 4 GB]**\n",
    "    - https://drive.google.com/file/d/1zQtdioDBiiyipUPHV2MEZi6j_cKJSfSH/view?usp=drive_link"
   ]
  },
  {
   "cell_type": "code",
   "execution_count": 2,
   "id": "117addb3-d325-4895-9bfd-ce24f93e4a90",
   "metadata": {},
   "outputs": [],
   "source": [
    "caminho_do_arquivo = \"combined_ALL_31points_mean.fits\""
   ]
  },
  {
   "cell_type": "code",
   "execution_count": 3,
   "id": "12646d64-3efb-46d6-b16b-3e481e10fb84",
   "metadata": {},
   "outputs": [
    {
     "data": {
      "text/plain": [
       "(4395504, 124)"
      ]
     },
     "execution_count": 3,
     "metadata": {},
     "output_type": "execute_result"
    }
   ],
   "source": [
    "hdul = fits.open(caminho_do_arquivo)  \n",
    "data_stokes = hdul[0].data\n",
    "\n",
    "data_stokes.shape"
   ]
  },
  {
   "cell_type": "markdown",
   "id": "11f565ae-ada5-467a-a309-221c9c7b8024",
   "metadata": {},
   "source": [
    "# Normalized by maximum intensity"
   ]
  },
  {
   "cell_type": "code",
   "execution_count": 4,
   "id": "48fdfb58-f547-4d3e-b06b-d2b8c347cffc",
   "metadata": {},
   "outputs": [],
   "source": [
    "stokes = np.copy(data_stokes)\n",
    "stokes = stokes.astype(\"float64\")  \n",
    "\n",
    "I_qs = np.max(stokes)\n",
    "stokes /= I_qs"
   ]
  },
  {
   "cell_type": "markdown",
   "id": "0ef6868f-abba-4677-a07c-7143aea067b7",
   "metadata": {},
   "source": [
    "# Random selection of 10% of the total data"
   ]
  },
  {
   "cell_type": "code",
   "execution_count": 5,
   "id": "c184ada0-dc1b-4244-b66b-c8cb1776ee81",
   "metadata": {},
   "outputs": [],
   "source": [
    "num_linhas_total = stokes.shape[0]\n",
    "num_linhas_selecionar = int(num_linhas_total * 0.10)\n",
    "\n",
    "# Generate random indexes for rows, 'replace=False' ensures you don't select the same row more than once.\n",
    "indices_selecionados = np.random.choice(num_linhas_total, num_linhas_selecionar, replace=False)\n",
    "\n",
    "# Use indexes to select rows from your array\n",
    "data_for_som = stokes[indices_selecionados]"
   ]
  },
  {
   "cell_type": "markdown",
   "id": "f181ab23-2f0e-493c-9c4f-783dbb589862",
   "metadata": {},
   "source": [
    "# SOM\n",
    "\n",
    "- ### Packages used for SOM\n",
    "  - **MiniSom :**\n",
    "     'https://github.com/JustGlowing/minisom"
   ]
  },
  {
   "cell_type": "code",
   "execution_count": 6,
   "id": "ec5273b4-fea2-46ca-a97c-6d26759be8c4",
   "metadata": {},
   "outputs": [],
   "source": [
    "from minisom import MiniSom"
   ]
  },
  {
   "cell_type": "code",
   "execution_count": 7,
   "id": "5962e126-d492-427d-900e-0e0301cb687a",
   "metadata": {},
   "outputs": [],
   "source": [
    "np.random.seed(24)\n",
    "Nnumber  = num_linhas_selecionar\n",
    "data_SOM = data_for_som\n",
    "\n",
    "# SOM Parameters\n",
    "function = 'gaussian'  \n",
    "topology = 'hexagonal'\n",
    "metric   = 'euclidean'\n",
    "\n",
    "tamanho_mapa = (5, 5)    # Grid size 2D\n",
    "sigma = 2                # Initial neighborhood radius\n",
    "taxa_aprendizado = 1.5   # Learning rate\n",
    "n_iteracoes = Nnumber    # Number of iterations "
   ]
  },
  {
   "cell_type": "markdown",
   "id": "c52d21c6-0665-45fd-973f-a123708ddeb6",
   "metadata": {},
   "source": [
    "### Initialize and train SOM "
   ]
  },
  {
   "cell_type": "code",
   "execution_count": 8,
   "id": "41f0a3e8-6431-40fa-93c6-f00ba4ba0b2d",
   "metadata": {},
   "outputs": [
    {
     "name": "stdout",
     "output_type": "stream",
     "text": [
      " [ 439550 / 439550 ] 100% - 0:00:00 left \n",
      " quantization error: 0.18374190201784824\n"
     ]
    }
   ],
   "source": [
    "som = MiniSom(tamanho_mapa[0], tamanho_mapa[1], data_SOM.shape[1], \n",
    "              sigma=sigma,\n",
    "              topology = topology, \n",
    "              neighborhood_function = function,\n",
    "              activation_distance = metric,\n",
    "              learning_rate=taxa_aprendizado, \n",
    "              random_seed=24)\n",
    "\n",
    "som.train_random(data_SOM, n_iteracoes, verbose=True)"
   ]
  },
  {
   "cell_type": "markdown",
   "id": "4c1e0758-3861-4b93-ba1f-a242a2a7cf6a",
   "metadata": {},
   "source": [
    "###  Quantization and topographic errors"
   ]
  },
  {
   "cell_type": "code",
   "execution_count": 9,
   "id": "7b5df8a9-71f6-414e-972c-751346469a85",
   "metadata": {},
   "outputs": [
    {
     "data": {
      "text/plain": [
       "(np.float64(0.18374190201784824), np.float64(0.10439540439085426))"
      ]
     },
     "execution_count": 9,
     "metadata": {},
     "output_type": "execute_result"
    }
   ],
   "source": [
    "qe = som.quantization_error(data_SOM)\n",
    "te = som.topographic_error(data_SOM)\n",
    "\n",
    "qe, te"
   ]
  },
  {
   "cell_type": "markdown",
   "id": "1223594f-2feb-4707-8883-2e796c36fd22",
   "metadata": {},
   "source": [
    "### Save"
   ]
  },
  {
   "cell_type": "code",
   "execution_count": 10,
   "id": "6ff037fd-f07c-4693-a8b3-9becdd449ed8",
   "metadata": {},
   "outputs": [],
   "source": [
    "# Save weights\n",
    "np.save('Weights_SOM_31points_Imax.npy', som.get_weights())\n",
    "\n",
    "# Save parameters\n",
    "params = {\n",
    "    'shape': som.get_weights().shape,\n",
    "    'sigma': sigma,\n",
    "    'learning_rate': taxa_aprendizado,\n",
    "    'topology':topology, \n",
    "    'neighborhood_function':function\n",
    "}\n",
    "with open('PARAMS_SOM_31points_Imax.txt', 'w') as f:\n",
    "    f.write(str(params))"
   ]
  }
 ],
 "metadata": {
  "kernelspec": {
   "display_name": "Python (WFA)",
   "language": "python",
   "name": "wfa"
  },
  "language_info": {
   "codemirror_mode": {
    "name": "ipython",
    "version": 3
   },
   "file_extension": ".py",
   "mimetype": "text/x-python",
   "name": "python",
   "nbconvert_exporter": "python",
   "pygments_lexer": "ipython3",
   "version": "3.11.5"
  }
 },
 "nbformat": 4,
 "nbformat_minor": 5
}
